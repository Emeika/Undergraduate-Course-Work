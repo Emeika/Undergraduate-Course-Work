{
  "nbformat": 4,
  "nbformat_minor": 0,
  "metadata": {
    "colab": {
      "provenance": []
    },
    "kernelspec": {
      "name": "python3",
      "display_name": "Python 3"
    },
    "language_info": {
      "name": "python"
    }
  },
  "cells": [
    {
      "cell_type": "code",
      "source": [
        "import numpy as np\n",
        "import pandas as pd\n",
        "from sklearn.model_selection import train_test_split\n",
        "from sklearn.metrics import accuracy_score\n",
        "\n",
        "def KNN_Classifier(X_train, y_train, X_test, k=10):\n",
        "    predictions = []\n",
        "    for x_test in X_test:\n",
        "        distances = []\n",
        "        for x_train in X_train:\n",
        "            distance = np.sqrt(np.sum((x_test - x_train)**2))\n",
        "            distances.append(distance)\n",
        "        nearest_indices = np.argsort(distances)[:k]\n",
        "        nearest_labels = [y_train[i] for i in nearest_indices]\n",
        "        predicted_label = max(set(nearest_labels), key=nearest_labels.count)\n",
        "        predictions.append(predicted_label)\n",
        "    return predictions\n",
        "\n",
        "# Read the file using Pandas\n",
        "df = pd.read_csv('diabetes.csv')\n",
        "\n",
        "# Separate features (X) and target variable (y) using column names\n",
        "X = df[['Pregnancies', 'Glucose', 'BloodPressure', 'SkinThickness', 'Insulin', 'BMI', 'DiabetesPedigreeFunction', 'Age']].values  # Features\n",
        "y = df['Outcome'].values  # Target variable\n",
        "\n",
        "# Split the data into training and testing sets\n",
        "X_train, X_test, y_train, y_test = train_test_split(X, y, test_size=0.2, random_state=42)\n",
        "\n",
        "# Train the KNN classifier\n",
        "knn_predictions = KNN_Classifier(X_train, y_train, X_test)\n",
        "\n",
        "# Calculate accuracy\n",
        "accuracy = accuracy_score(y_test, knn_predictions)\n",
        "# accuracy = np.mean(knn_predictions == y_test)\n",
        "print(\"Accuracy:\", accuracy)\n"
      ],
      "metadata": {
        "colab": {
          "base_uri": "https://localhost:8080/"
        },
        "id": "IRLwMNfA48Dy",
        "outputId": "19046121-7a21-4300-84b4-cc04150b1517"
      },
      "execution_count": 12,
      "outputs": [
        {
          "output_type": "stream",
          "name": "stdout",
          "text": [
            "Accuracy: 0.7662337662337663\n"
          ]
        }
      ]
    }
  ]
}