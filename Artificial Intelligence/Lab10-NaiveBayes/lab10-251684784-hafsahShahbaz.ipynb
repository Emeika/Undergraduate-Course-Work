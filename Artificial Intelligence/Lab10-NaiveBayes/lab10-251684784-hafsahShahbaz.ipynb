{
  "cells": [
    {
      "cell_type": "code",
      "source": [
        "import pandas as pd\n",
        "\n",
        "# Read training data and labels\n",
        "train_X = pd.read_csv(\"trainNaive.csv\")\n",
        "train_Y = pd.read_csv(\"trainNaiveLabels.csv\")\n",
        "\n",
        "# Read test data\n",
        "test_X = pd.read_csv(\"testNaive.csv\")\n"
      ],
      "metadata": {
        "id": "KDxiOOWEYrQc"
      },
      "execution_count": 17,
      "outputs": []
    },
    {
      "cell_type": "code",
      "source": [
        "def compute_probabilities(train_X, train_Y):\n",
        "    # Compute prior probabilities P(y)\n",
        "    total_samples = len(train_Y)\n",
        "    classes, class_counts = np.unique(train_Y.values.flatten(), return_counts=True)\n",
        "    prior_probs = dict(zip(classes, class_counts / total_samples))\n",
        "\n",
        "    # Compute conditional probabilities P(xi|y) for each feature xi and class y\n",
        "    conditional_probs = {}\n",
        "    for feature in train_X.columns:\n",
        "        conditional_probs[feature] = {}\n",
        "        for cls in classes:\n",
        "            subset = train_X[train_Y.values.flatten() == cls][feature]\n",
        "            value_counts = subset.value_counts()\n",
        "            total_count = len(subset)\n",
        "            conditional_probs[feature][cls] = value_counts / total_count\n",
        "\n",
        "    return prior_probs, conditional_probs\n",
        "\n",
        "def predict(test_X, prior_probs, conditional_probs):\n",
        "    predictions = []\n",
        "    for index, row in test_X.iterrows():\n",
        "        max_prob = -1\n",
        "        predicted_class = None\n",
        "        for cls, prior_prob in prior_probs.items():\n",
        "            prob = prior_prob\n",
        "            for feature, value in row.items():\n",
        "                if feature in conditional_probs and value in conditional_probs[feature][cls]:\n",
        "                    prob *= conditional_probs[feature][cls][value]\n",
        "                else:\n",
        "                    # Laplace smoothing for unseen values\n",
        "                    prob *= 1 / (len(train_X[feature].unique()) + 1)\n",
        "            if prob > max_prob:\n",
        "                max_prob = prob\n",
        "                predicted_class = cls\n",
        "        predictions.append(predicted_class)\n",
        "    return predictions\n",
        "\n",
        "prior_probs, conditional_probs = compute_probabilities(train_X, train_Y)\n",
        "\n",
        "predictions = predict(test_X, prior_probs, conditional_probs)\n",
        "\n",
        "# Output predictions\n",
        "print(\"Predictions for test data:\")\n",
        "for i, pred in enumerate(predictions):\n",
        "    print(f\"Instance {i+1}: {pred}\")\n"
      ],
      "metadata": {
        "id": "UGyb8k-zf3Tw",
        "outputId": "91cb794e-30c1-44e8-ee84-8127f574cf42",
        "colab": {
          "base_uri": "https://localhost:8080/"
        }
      },
      "execution_count": 19,
      "outputs": [
        {
          "output_type": "stream",
          "name": "stdout",
          "text": [
            "Predictions for test data:\n",
            "Instance 1: yes\n",
            "Instance 2: yes\n",
            "Instance 3: no\n",
            "Instance 4: yes\n",
            "Instance 5: no\n"
          ]
        }
      ]
    },
    {
      "cell_type": "code",
      "source": [
        "import pandas as pd\n",
        "\n",
        "# Read training data and labels\n",
        "train_X = pd.read_csv(\"trainNaive.csv\")\n",
        "train_Y = pd.read_csv(\"trainNaiveLabels.csv\")\n",
        "\n",
        "# Read test data\n",
        "test_X = pd.read_csv(\"testNaive.csv\")\n",
        "\n",
        "# Step 1: Data Preprocessing\n",
        "# Convert categorical variables to numerical values\n",
        "# Define mapping for Outlook, Temperature, Humidity, and Windy\n",
        "outlook_map = {'sunny': 0, 'overcast': 1, 'rainy': 2}\n",
        "temperature_map = {'hot': 0, 'mild': 1, 'cool': 2}\n",
        "humidity_map = {'high': 0, 'normal': 1}\n",
        "windy_map = {False: 0, True: 1}\n",
        "\n",
        "# Apply mapping to training and test data\n",
        "train_X['Outlook'] = train_X['Outlook'].map(outlook_map)\n",
        "train_X['Temperature'] = train_X['Temperature'].map(temperature_map)\n",
        "train_X['Humidity'] = train_X['Humidity'].map(humidity_map)\n",
        "train_X['Windy'] = train_X['Windy'].map(windy_map)\n",
        "\n",
        "test_X['Outlook'] = test_X['Outlook'].map(outlook_map)\n",
        "test_X['Temperature'] = test_X['Temperature'].map(temperature_map)\n",
        "test_X['Humidity'] = test_X['Humidity'].map(humidity_map)\n",
        "test_X['Windy'] = test_X['Windy'].map(windy_map)\n",
        "\n",
        "# Step 2: Training\n",
        "# Calculate probabilities for each feature and class label\n",
        "# Count occurrences of each feature given each class label\n",
        "class_counts = train_Y['Play'].value_counts(normalize=True)\n",
        "feature_counts = {}\n",
        "for feature in train_X.columns:\n",
        "    feature_counts[feature] = {}\n",
        "    for label in train_Y['Play'].unique():\n",
        "        feature_counts[feature][label] = train_X[train_Y['Play'] == label][feature].value_counts(normalize=True)\n",
        "\n",
        "# Step 3: Classification\n",
        "predictions = []\n",
        "for i in range(len(test_X)):\n",
        "    probabilities = {}\n",
        "    for label in train_Y['Play'].unique():\n",
        "        probabilities[label] = class_counts[label]\n",
        "        for feature in test_X.columns:\n",
        "            probabilities[label] *= feature_counts[feature][label].get(test_X.iloc[i][feature], 0)\n",
        "    predicted_label = max(probabilities, key=probabilities.get)\n",
        "    predictions.append(predicted_label)\n",
        "\n",
        "# Print predictions\n",
        "print(predictions)\n"
      ],
      "metadata": {
        "id": "wvhU7hFglZ4R",
        "outputId": "e2a90d93-bf51-4611-8075-8ee829c32e39",
        "colab": {
          "base_uri": "https://localhost:8080/"
        }
      },
      "execution_count": 18,
      "outputs": [
        {
          "output_type": "stream",
          "name": "stdout",
          "text": [
            "['yes', 'yes', 'yes', 'yes', 'no']\n"
          ]
        }
      ]
    }
  ],
  "metadata": {
    "colab": {
      "name": "Welcome To Colab",
      "provenance": []
    },
    "kernelspec": {
      "display_name": "Python 3",
      "name": "python3"
    }
  },
  "nbformat": 4,
  "nbformat_minor": 0
}