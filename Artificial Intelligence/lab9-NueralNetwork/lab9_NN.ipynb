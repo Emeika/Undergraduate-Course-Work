{
  "nbformat": 4,
  "nbformat_minor": 0,
  "metadata": {
    "colab": {
      "provenance": []
    },
    "kernelspec": {
      "name": "python3",
      "display_name": "Python 3"
    },
    "language_info": {
      "name": "python"
    }
  },
  "cells": [
    {
      "cell_type": "code",
      "source": [
        "import pandas as pd\n",
        "from sklearn.model_selection import train_test_split\n",
        "from keras.models import Sequential\n",
        "from keras.layers import Dense"
      ],
      "metadata": {
        "id": "IrC8-t8kYLS6"
      },
      "execution_count": 9,
      "outputs": []
    },
    {
      "cell_type": "code",
      "execution_count": 5,
      "metadata": {
        "id": "7-ycMUnAXAVz"
      },
      "outputs": [],
      "source": [
        "data = pd.read_csv(\"12_months_joint.csv\")\n",
        "\n",
        "X = data.drop(['cov'], axis=1)  # Features\n",
        "y = data['cov']  # label"
      ]
    },
    {
      "cell_type": "code",
      "source": [
        "# Splitting the dataset into training and testing sets\n",
        "X_train, X_test, y_train, y_test = train_test_split(X, y, test_size=0.2, random_state=42)\n"
      ],
      "metadata": {
        "id": "U5uCgGHLYH21"
      },
      "execution_count": 4,
      "outputs": []
    },
    {
      "cell_type": "code",
      "source": [
        "model = Sequential()\n",
        "model.add(Dense(units=1, input_dim=X_train.shape[1], activation='sigmoid'))\n",
        "\n",
        "model.compile(loss='binary_crossentropy', optimizer='adam', metrics=['accuracy'])\n",
        "\n",
        "model.fit(X_train, y_train, epochs=100, batch_size=32, verbose=0)\n",
        "\n",
        "loss, accuracy = model.evaluate(X_test, y_test)\n",
        "print('Test Accuracy:', accuracy)"
      ],
      "metadata": {
        "colab": {
          "base_uri": "https://localhost:8080/"
        },
        "id": "n3ZBgxGvZgUo",
        "outputId": "67f8091b-3c30-4edb-bbe0-270f7da5cb5a"
      },
      "execution_count": 30,
      "outputs": [
        {
          "output_type": "stream",
          "name": "stdout",
          "text": [
            "2/2 [==============================] - 0s 8ms/step - loss: 2.5198 - accuracy: 0.7966\n",
            "Test Accuracy: 0.7966101765632629\n"
          ]
        }
      ]
    },
    {
      "cell_type": "code",
      "source": [
        "model = Sequential()\n",
        "model.add(Dense(units=1, input_dim=X_train.shape[1], activation='tanh')) #change activation parameter\n",
        "model.add(Dense(units=1, activation='sigmoid'))\n",
        "model.compile(loss='binary_crossentropy', optimizer='adam', metrics=['accuracy'])\n",
        "model.fit(X_train, y_train, epochs=100, batch_size=32, verbose=0)\n",
        "loss, accuracy = model.evaluate(X_test, y_test)\n",
        "print('Experiment 1 Test Accuracy:', accuracy)\n"
      ],
      "metadata": {
        "colab": {
          "base_uri": "https://localhost:8080/"
        },
        "id": "sa_EJFxne41w",
        "outputId": "1b5331dd-8217-4e3d-d42e-0d4da0e9e8ff"
      },
      "execution_count": 12,
      "outputs": [
        {
          "output_type": "stream",
          "name": "stdout",
          "text": [
            "2/2 [==============================] - 0s 8ms/step - loss: 0.6504 - accuracy: 0.6610\n",
            "Experiment 2 Test Accuracy: 0.6610169410705566\n"
          ]
        }
      ]
    },
    {
      "cell_type": "code",
      "source": [
        "model = Sequential()\n",
        "model.add(Dense(units=1, input_dim=X_train.shape[1], activation='relu')) #change activation parameter\n",
        "model.add(Dense(units=1, activation='sigmoid'))\n",
        "model.compile(loss='binary_crossentropy', optimizer='adam', metrics=['accuracy'])\n",
        "model.fit(X_train, y_train, epochs=100, batch_size=32, verbose=0)\n",
        "loss, accuracy = model.evaluate(X_test, y_test)\n",
        "print('Experiment 2 Test Accuracy:', accuracy)"
      ],
      "metadata": {
        "colab": {
          "base_uri": "https://localhost:8080/"
        },
        "id": "W4rgvl9ogLt8",
        "outputId": "9876cb4a-2131-4878-87de-6f2e901858f9"
      },
      "execution_count": 13,
      "outputs": [
        {
          "output_type": "stream",
          "name": "stdout",
          "text": [
            "2/2 [==============================] - 0s 11ms/step - loss: 0.4446 - accuracy: 0.7797\n",
            "Experiment 1 Test Accuracy: 0.7796609997749329\n"
          ]
        }
      ]
    },
    {
      "cell_type": "code",
      "source": [
        "from keras.optimizers import Adam\n",
        "model = Sequential()\n",
        "model.add(Dense(units=1, input_dim=X_train.shape[1], activation='relu'))\n",
        "model.add(Dense(units=1, activation='sigmoid'))\n",
        "custom_optimizer = Adam(learning_rate=0.001)  # Decrease learning rate\n",
        "model.compile(loss='binary_crossentropy', optimizer=custom_optimizer, metrics=['accuracy'])\n",
        "model.fit(X_train, y_train, epochs=100, batch_size=32, verbose=0)\n",
        "loss, accuracy = model.evaluate(X_test, y_test)\n",
        "print('Experiment 3 Test Accuracy:', accuracy)"
      ],
      "metadata": {
        "colab": {
          "base_uri": "https://localhost:8080/"
        },
        "id": "bz2-gImvgRP1",
        "outputId": "54a19680-7532-457d-95ec-85ff065f8a3c"
      },
      "execution_count": 14,
      "outputs": [
        {
          "output_type": "stream",
          "name": "stdout",
          "text": [
            "2/2 [==============================] - 0s 7ms/step - loss: 0.7219 - accuracy: 0.6780\n",
            "Experiment 3 Test Accuracy: 0.6779661178588867\n"
          ]
        }
      ]
    },
    {
      "cell_type": "code",
      "source": [
        "model = Sequential()\n",
        "model.add(Dense(units=1, input_dim=X_train.shape[1], activation='relu'))\n",
        "model.add(Dense(units=10, activation='relu'))  # Add another hidden layer\n",
        "model.add(Dense(units=1, activation='sigmoid'))\n",
        "model.compile(loss='binary_crossentropy', optimizer='adam', metrics=['accuracy'])\n",
        "model.fit(X_train, y_train, epochs=100, batch_size=32, verbose=0)\n",
        "loss, accuracy = model.evaluate(X_test, y_test)\n",
        "print('Experiment 4 Test Accuracy:', accuracy)\n"
      ],
      "metadata": {
        "colab": {
          "base_uri": "https://localhost:8080/"
        },
        "id": "uQ2IR7_IgXJ5",
        "outputId": "1461b005-492e-4c7a-d967-ec55cbc4af88"
      },
      "execution_count": 22,
      "outputs": [
        {
          "output_type": "stream",
          "name": "stdout",
          "text": [
            "2/2 [==============================] - 0s 10ms/step - loss: 0.4942 - accuracy: 0.7119\n",
            "Experiment 4 Test Accuracy: 0.7118644118309021\n"
          ]
        }
      ]
    },
    {
      "cell_type": "code",
      "source": [
        "model = Sequential()\n",
        "model.add(Dense(units=1, input_dim=X_train.shape[1], activation='relu'))\n",
        "model.add(Dense(units=1, activation='sigmoid'))\n",
        "model.compile(loss='binary_crossentropy', optimizer='adam', metrics=['accuracy'])\n",
        "model.fit(X_train, y_train, epochs=100, batch_size=16, verbose=0)  # Decrease batch size\n",
        "loss, accuracy = model.evaluate(X_test, y_test)\n",
        "print('Experiment 5 Test Accuracy:', accuracy)"
      ],
      "metadata": {
        "colab": {
          "base_uri": "https://localhost:8080/"
        },
        "id": "WwqTMg1Rga2G",
        "outputId": "903ff06d-0291-4ad7-ea1a-a44152b47ecc"
      },
      "execution_count": 16,
      "outputs": [
        {
          "output_type": "stream",
          "name": "stdout",
          "text": [
            "2/2 [==============================] - 1s 8ms/step - loss: 0.4802 - accuracy: 0.7797\n",
            "Experiment 5 Test Accuracy: 0.7796609997749329\n"
          ]
        }
      ]
    },
    {
      "cell_type": "code",
      "source": [
        "from sklearn.metrics import recall_score\n",
        "\n",
        "# Assuming you have trained the model and made predictions on the test set\n",
        "\n",
        "# Get the predicted labels\n",
        "y_pred = model.predict(X_test)\n",
        "y_pred_binary = (y_pred > 0.5).astype(int)  # Convert probabilities to binary predictions\n",
        "\n",
        "# Calculate recall\n",
        "recall = recall_score(y_test, y_pred_binary)\n",
        "\n",
        "print('Test Recall:', recall)\n"
      ],
      "metadata": {
        "colab": {
          "base_uri": "https://localhost:8080/"
        },
        "id": "o98u2ipXgcCY",
        "outputId": "1e2725c5-a041-44eb-ed9d-a38874388381"
      },
      "execution_count": 31,
      "outputs": [
        {
          "output_type": "stream",
          "name": "stdout",
          "text": [
            "2/2 [==============================] - 0s 10ms/step\n",
            "Test Recall: 0.95\n"
          ]
        }
      ]
    }
  ]
}